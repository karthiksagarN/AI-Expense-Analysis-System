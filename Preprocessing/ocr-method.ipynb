{
 "cells": [
  {
   "cell_type": "markdown",
   "id": "49e2bc81",
   "metadata": {},
   "source": [
    "## Extract text using OCR"
   ]
  },
  {
   "cell_type": "code",
   "execution_count": 1,
   "id": "68ebf5d3",
   "metadata": {},
   "outputs": [],
   "source": [
    "import pdfplumber\n",
    "import pytesseract\n",
    "from PIL import Image\n",
    "\n",
    "def ocr_pdf_to_text(pdf_path: str) -> str:\n",
    "    \"\"\"\n",
    "    Extracts text from a PDF file using OCR.\n",
    "    \"\"\"\n",
    "    full_text = \"\"\n",
    "    with pdfplumber.open(pdf_path) as pdf:\n",
    "        for page in pdf.pages:\n",
    "            image = page.to_image(resolution=300)\n",
    "            text = pytesseract.image_to_string(image.original)\n",
    "            full_text += text + \"\\n\"\n",
    "    return full_text"
   ]
  },
  {
   "cell_type": "markdown",
   "id": "5d817cfb",
   "metadata": {},
   "source": [
    "## Parsing PDFs"
   ]
  },
  {
   "cell_type": "code",
   "execution_count": 2,
   "id": "5e0df7e4",
   "metadata": {},
   "outputs": [],
   "source": [
    "import re\n",
    "import pandas as pd\n",
    "\n",
    "def parse_bank_statement(text: str, bank: str) -> pd.DataFrame:\n",
    "    transactions = []\n",
    "    \n",
    "    if bank.lower() == 'icici':\n",
    "        # Regex for ICICI based on sample data, adjusted for multi-line remarks\n",
    "        pattern = re.compile(\n",
    "            r'(\\d+)\\s+' # S.No\n",
    "            r'(\\d{2}/\\d{2}/\\d{4})\\s+' # Value Date\n",
    "            r'(\\d{2}/\\d{2}/\\d{4})\\s+' # Transaction Date\n",
    "            r'(UPI.*?)(?:\\r?\\n|\\s+)(\\d[\\d,.]*?)\\s+(\\d[\\d,.]*?)\\s+([\\d,.]+)' # Description, Withdrawal, Deposit, Balance\n",
    "            , re.DOTALL\n",
    "        )\n",
    "        for match in pattern.finditer(text):\n",
    "            # Extract groups\n",
    "            s_no, val_date, txn_date, desc, withdraw, deposit, balance = match.groups()\n",
    "            transactions.append({\n",
    "                'Date': txn_date,\n",
    "                'Description': desc.strip(),\n",
    "                'Debit': float(withdraw.replace(',', '')),\n",
    "                'Credit': float(deposit.replace(',', '')),\n",
    "                'Balance': float(balance.replace(',', '')),\n",
    "            })\n",
    "    \n",
    "    elif bank.lower() == 'hdfc':\n",
    "        # Regex for HDFC\n",
    "        pattern = re.compile(\n",
    "            r'(\\d{2} [A-Z][a-z]{2} \\d{4})\\s+'  # Date\n",
    "            r'(.+?)\\s+'  # Narration (Description) - a bit broad, but works here\n",
    "            r'(\\d{10,}|[A-Z0-9]+)\\s+' # Cheque/Ref. No.\n",
    "            r'(\\d{2} [A-Z][a-z]{2} \\d{4})\\s+'  # Value Date\n",
    "            r'([\\d,]+\\.\\d{2}|)?\\s*'  # Withdrawal (optional)\n",
    "            r'([\\d,]+\\.\\d{2}|)?\\s*'  # Deposit (optional)\n",
    "            r'([\\d,]+\\.\\d{2})'  # Closing Balance\n",
    "        )\n",
    "        for match in pattern.finditer(text):\n",
    "            # Extract groups\n",
    "            date, desc, ref, val_date, withdraw, deposit, balance = match.groups()\n",
    "            transactions.append({\n",
    "                'Date': date,\n",
    "                'Description': desc.strip(),\n",
    "                'Debit': float(withdraw.replace(',', '')) if withdraw else 0.0,\n",
    "                'Credit': float(deposit.replace(',', '')) if deposit else 0.0,\n",
    "                'Balance': float(balance.replace(',', '')),\n",
    "            })\n",
    "\n",
    "    # Create and return DataFrame\n",
    "    return pd.DataFrame(transactions)"
   ]
  },
  {
   "cell_type": "markdown",
   "id": "4374b8b3",
   "metadata": {},
   "source": [
    "## Inference"
   ]
  },
  {
   "cell_type": "code",
   "execution_count": null,
   "id": "cfced3dd",
   "metadata": {},
   "outputs": [
    {
     "data": {
      "text/html": [
       "<div>\n",
       "<style scoped>\n",
       "    .dataframe tbody tr th:only-of-type {\n",
       "        vertical-align: middle;\n",
       "    }\n",
       "\n",
       "    .dataframe tbody tr th {\n",
       "        vertical-align: top;\n",
       "    }\n",
       "\n",
       "    .dataframe thead th {\n",
       "        text-align: right;\n",
       "    }\n",
       "</style>\n",
       "<table border=\"1\" class=\"dataframe\">\n",
       "  <thead>\n",
       "    <tr style=\"text-align: right;\">\n",
       "      <th></th>\n",
       "      <th>Date</th>\n",
       "      <th>Description</th>\n",
       "      <th>Debit</th>\n",
       "      <th>Credit</th>\n",
       "      <th>Balance</th>\n",
       "    </tr>\n",
       "  </thead>\n",
       "  <tbody>\n",
       "    <tr>\n",
       "      <th>0</th>\n",
       "      <td>18 Jan 2024</td>\n",
       "      <td>18 Jan</td>\n",
       "      <td>200.0</td>\n",
       "      <td>300.0</td>\n",
       "      <td>20.0</td>\n",
       "    </tr>\n",
       "  </tbody>\n",
       "</table>\n",
       "</div>"
      ],
      "text/plain": [
       "          Date Description  Debit  Credit  Balance\n",
       "0  18 Jan 2024      18 Jan  200.0   300.0     20.0"
      ]
     },
     "execution_count": 3,
     "metadata": {},
     "output_type": "execute_result"
    }
   ],
   "source": [
    "pdf_path = \"/Users/karthiksagar/Expense-Classification/Statements/hdfc.pdf\"\n",
    "bank = \"HDFC\"  # or \"ICICI\", \"Union Bank\", \"SBI\"\n",
    "\n",
    "text = ocr_pdf_to_text(pdf_path)\n",
    "\n",
    "df = parse_bank_statement(text, bank)\n",
    "df.head()"
   ]
  },
  {
   "cell_type": "code",
   "execution_count": 4,
   "id": "5282a3eb",
   "metadata": {},
   "outputs": [
    {
     "data": {
      "text/html": [
       "<div>\n",
       "<style scoped>\n",
       "    .dataframe tbody tr th:only-of-type {\n",
       "        vertical-align: middle;\n",
       "    }\n",
       "\n",
       "    .dataframe tbody tr th {\n",
       "        vertical-align: top;\n",
       "    }\n",
       "\n",
       "    .dataframe thead th {\n",
       "        text-align: right;\n",
       "    }\n",
       "</style>\n",
       "<table border=\"1\" class=\"dataframe\">\n",
       "  <thead>\n",
       "    <tr style=\"text-align: right;\">\n",
       "      <th></th>\n",
       "      <th>Date</th>\n",
       "      <th>Description</th>\n",
       "      <th>Debit</th>\n",
       "      <th>Credit</th>\n",
       "      <th>Balance</th>\n",
       "    </tr>\n",
       "  </thead>\n",
       "  <tbody>\n",
       "    <tr>\n",
       "      <th>0</th>\n",
       "      <td>18 Jan 2024</td>\n",
       "      <td>18 Jan</td>\n",
       "      <td>200.0</td>\n",
       "      <td>300.0</td>\n",
       "      <td>20.0</td>\n",
       "    </tr>\n",
       "  </tbody>\n",
       "</table>\n",
       "</div>"
      ],
      "text/plain": [
       "          Date Description  Debit  Credit  Balance\n",
       "0  18 Jan 2024      18 Jan  200.0   300.0     20.0"
      ]
     },
     "execution_count": 4,
     "metadata": {},
     "output_type": "execute_result"
    }
   ],
   "source": [
    "df"
   ]
  },
  {
   "cell_type": "code",
   "execution_count": null,
   "id": "0367213d",
   "metadata": {},
   "outputs": [],
   "source": []
  }
 ],
 "metadata": {
  "kernelspec": {
   "display_name": "base",
   "language": "python",
   "name": "python3"
  },
  "language_info": {
   "codemirror_mode": {
    "name": "ipython",
    "version": 3
   },
   "file_extension": ".py",
   "mimetype": "text/x-python",
   "name": "python",
   "nbconvert_exporter": "python",
   "pygments_lexer": "ipython3",
   "version": "3.11.5"
  }
 },
 "nbformat": 4,
 "nbformat_minor": 5
}
